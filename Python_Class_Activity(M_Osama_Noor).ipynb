{
  "cells": [
    {
      "cell_type": "markdown",
      "metadata": {
        "id": "view-in-github",
        "colab_type": "text"
      },
      "source": [
        "<a href=\"https://colab.research.google.com/github/osamanoor17/Python_Class_Activity/blob/main/Python_Class_Activity(M_Osama_Noor).ipynb\" target=\"_parent\"><img src=\"https://colab.research.google.com/assets/colab-badge.svg\" alt=\"Open In Colab\"/></a>"
      ]
    },
    {
      "cell_type": "markdown",
      "id": "33956be4",
      "metadata": {
        "id": "33956be4"
      },
      "source": [
        "#### [Question1]\n",
        "\n",
        "a) Create a string variable called my_str containing the following sentence: Python programming is fun and powerful! <br>\n",
        "b) Find the length of my_str. <br>\n",
        "c) Replace \"fun\" in my_str with \"exciting.\" Store this back in my_str and print my_str <br>\n",
        "d) Find the index of the word powerful in my_str <br>\n",
        "e) Split the string into a list of words (google which function can help you do this). Store this in my_str_to_list and print it"
      ]
    },
    {
      "cell_type": "code",
      "execution_count": 3,
      "id": "4dfe59e8",
      "metadata": {
        "id": "4dfe59e8"
      },
      "outputs": [],
      "source": [
        "# create my_str below\n",
        "\n",
        "my_str = \"Python programming is fun and powerful!\""
      ]
    },
    {
      "cell_type": "code",
      "execution_count": 13,
      "id": "33b969da",
      "metadata": {
        "id": "33b969da",
        "outputId": "1153c3e4-086b-499a-d349-7ab9d497dd2e",
        "colab": {
          "base_uri": "https://localhost:8080/"
        }
      },
      "outputs": [
        {
          "output_type": "stream",
          "name": "stdout",
          "text": [
            "The length of the string: 39\n"
          ]
        }
      ],
      "source": [
        "# find out the length of my_str. no need to store this anywhere\n",
        "\n",
        "length = len(my_str)\n",
        "print(\"The length of the string:\",length)"
      ]
    },
    {
      "cell_type": "code",
      "execution_count": 14,
      "id": "b45d1a3b",
      "metadata": {
        "id": "b45d1a3b",
        "outputId": "0fe542ce-2c01-4d75-bf91-5a18691cff36",
        "colab": {
          "base_uri": "https://localhost:8080/"
        }
      },
      "outputs": [
        {
          "output_type": "stream",
          "name": "stdout",
          "text": [
            "Replaced fun with exciting: Python programming is exciting and powerful!\n"
          ]
        }
      ],
      "source": [
        "# update my_str so it has the word exciting instead of fun. print my_str at the end\n",
        "\n",
        "replace = my_str.replace(\"fun\",\"exciting\")\n",
        "print(\"Replaced fun with exciting:\",replace)\n"
      ]
    },
    {
      "cell_type": "code",
      "execution_count": 15,
      "id": "4c67c03c",
      "metadata": {
        "id": "4c67c03c",
        "outputId": "12cc6359-8faa-4858-a1cb-d87ea03aa143",
        "colab": {
          "base_uri": "https://localhost:8080/"
        }
      },
      "outputs": [
        {
          "output_type": "stream",
          "name": "stdout",
          "text": [
            "The string index: 30\n"
          ]
        }
      ],
      "source": [
        "# find the index of the word powerful in my_str\n",
        "\n",
        "string_index= my_str.index(\"powerful\")\n",
        "\n",
        "print(\"The string index:\",string_index)\n"
      ]
    },
    {
      "cell_type": "code",
      "execution_count": 16,
      "id": "bdfffa17",
      "metadata": {
        "id": "bdfffa17",
        "outputId": "ad533f05-bdac-4c6a-912a-c4f7955d4e95",
        "colab": {
          "base_uri": "https://localhost:8080/"
        }
      },
      "outputs": [
        {
          "output_type": "stream",
          "name": "stdout",
          "text": [
            "['Python', 'programming', 'is', 'fun', 'and', 'powerful!']\n"
          ]
        }
      ],
      "source": [
        "# create my_str_to_list and store my_str split into a list of words in this. print my_str_to_list\n",
        "\n",
        "my_str_to_list = my_str.split()\n",
        "print(my_str_to_list)\n"
      ]
    },
    {
      "cell_type": "markdown",
      "id": "2235471f",
      "metadata": {
        "id": "2235471f"
      },
      "source": [
        "#### [Question2]\n",
        "Given a variable called Celsius with the value 108.6, convert it to Fahrenheit. Google the formula for celcius to fahrenheit conversion. Print out Fahrenheit."
      ]
    },
    {
      "cell_type": "code",
      "execution_count": 18,
      "id": "3364767a",
      "metadata": {
        "id": "3364767a",
        "outputId": "8bc4350a-f39e-4293-f841-21588150a4d1",
        "colab": {
          "base_uri": "https://localhost:8080/"
        }
      },
      "outputs": [
        {
          "output_type": "stream",
          "name": "stdout",
          "text": [
            "Temperature in Celsius: 108.6\n",
            "Temperature in Fahrenheit: 227.48\n"
          ]
        }
      ],
      "source": [
        "Celsius = 108.6\n",
        "\n",
        "# F = (C X 9/5) + 32\n",
        "# conversion\n",
        "Fahrenheit = (Celsius * 9/5) + 32\n",
        "print(\"Temperature in Celsius:\",Celsius)\n",
        "\n",
        "#print out Fahrenheit below\n",
        "print(\"Temperature in Fahrenheit:\",Fahrenheit)\n"
      ]
    },
    {
      "cell_type": "markdown",
      "id": "f7069988",
      "metadata": {
        "id": "f7069988"
      },
      "source": [
        "#### [Question3]\n",
        "\n",
        "A university wants to write a program that will help them decide the eligibility of each applicant. The conditions are:\n",
        "- all admits must be 18 or older in age\n",
        "- if their GPA is 3.0 or above, they are eligible. If their GPA is 2.8 or above, they are eligible based on a performance test. Otherwise they are not eligible.\n",
        "\n",
        "\n",
        "Given the three lists names, ages and GPA:\n",
        "\n",
        "Write a for loop that will print out the following three things in each iteration:\n",
        "\n",
        "- Student (insert name) has age (insert age) and GPA (insert GPA)\n",
        "- Eligible for admission/ Eligible for admission based on performance test/ Not eligible for admission\n",
        "- New line\n",
        "\n",
        "example:\n",
        "\n",
        "Student Hassan Ali has age 19 and GPA 3.0 <br>\n",
        "Eligible for admission"
      ]
    },
    {
      "cell_type": "code",
      "execution_count": 19,
      "id": "3bd3d902",
      "metadata": {
        "id": "3bd3d902",
        "outputId": "23e5abd1-12b7-4164-d259-a065c14a23fd",
        "colab": {
          "base_uri": "https://localhost:8080/"
        }
      },
      "outputs": [
        {
          "output_type": "stream",
          "name": "stdout",
          "text": [
            "Student Hassan Ali has age 19 and GPA 3.0\n",
            "Eligible for admission\n",
            "\n",
            "Student Rabbiya Sarmad has age 17 and GPA 3.9\n",
            "Not eligible for admission\n",
            "\n",
            "Student Zara Haq has age 15 and GPA 2.5\n",
            "Not eligible for admission\n",
            "\n",
            "Student Hussain Rafay has age 21 and GPA 3.1\n",
            "Eligible for admission\n",
            "\n",
            "Student Dua Hamid has age 18 and GPA 2.9\n",
            "Eligible for admission based on performance test\n",
            "\n"
          ]
        }
      ],
      "source": [
        "names = ['Hassan Ali', 'Rabbiya Sarmad', 'Zara Haq', 'Hussain Rafay', 'Dua Hamid']\n",
        "ages = [19, 17, 15, 21, 18]\n",
        "GPA = [3.0, 3.9, 2.5, 3.1, 2.9]\n",
        "\n",
        "# Loop code\n",
        "for i in range(len(names)):\n",
        "    print(f\"Student {names[i]} has age {ages[i]} and GPA {GPA[i]}\")\n",
        "\n",
        "    if ages[i] >= 18:\n",
        "        if GPA[i] >= 3.0:\n",
        "            print(\"Eligible for admission\")\n",
        "        elif GPA[i] >= 2.8:\n",
        "            print(\"Eligible for admission based on performance test\")\n",
        "        else:\n",
        "            print(\"Not eligible for admission\")\n",
        "    else:\n",
        "        print(\"Not eligible for admission\")\n",
        "  # New line\n",
        "    print()\n"
      ]
    },
    {
      "cell_type": "markdown",
      "id": "893405b9",
      "metadata": {
        "id": "893405b9"
      },
      "source": [
        "#### [Question 4]\n",
        "\n",
        "Given the following list called numbers:\n",
        "\n",
        "a) Convert it into a tuple and print it. <br>\n",
        "b) Calculate the sum of this tuple. Store it in sum_numbers. print sum_numbers <br>\n",
        "c) Using slicing, fetch every odd indexed element from numbers <br>\n",
        "d) Create new **lists** called evens and odds. Using ONE for loop, add every even integer from the numbers tuple to evens and every odd number to odds. in the end, print numbers, evens and odds. <br>\n",
        "e) Would it be possible to do this if evens and odds were tuples instead of lists?"
      ]
    },
    {
      "cell_type": "code",
      "execution_count": 20,
      "id": "f0e87e0d",
      "metadata": {
        "id": "f0e87e0d",
        "colab": {
          "base_uri": "https://localhost:8080/"
        },
        "outputId": "b6e6d136-2d8e-47c7-b0cd-e959bb23d8c2"
      },
      "outputs": [
        {
          "output_type": "stream",
          "name": "stdout",
          "text": [
            "Converted list to tuple: (12, 34, 45, 67, 89, 100, 23, 56)\n"
          ]
        }
      ],
      "source": [
        "numbers =  [12, 34, 45, 67, 89, 100, 23, 56]\n",
        "#convert numbers into a tuple below and print numbers\n",
        "\n",
        "tuple_num = tuple(numbers)\n",
        "print(\"Converted list to tuple:\",tuple_num)\n"
      ]
    },
    {
      "cell_type": "code",
      "execution_count": 21,
      "id": "a41a80cb",
      "metadata": {
        "id": "a41a80cb",
        "colab": {
          "base_uri": "https://localhost:8080/"
        },
        "outputId": "0b718e04-b470-4e1b-a300-a1823ea0a7d5"
      },
      "outputs": [
        {
          "output_type": "stream",
          "name": "stdout",
          "text": [
            "Sum of numbers: 426\n"
          ]
        }
      ],
      "source": [
        "# create sum_numbers and store the sum of numbers in it. print sum_numbers\n",
        "\n",
        "sum_numbers = sum(tuple_num)\n",
        "print(\"Sum of numbers:\",sum_numbers)\n"
      ]
    },
    {
      "cell_type": "code",
      "execution_count": 22,
      "id": "5908766a",
      "metadata": {
        "id": "5908766a",
        "colab": {
          "base_uri": "https://localhost:8080/"
        },
        "outputId": "fd6b107b-7521-49ec-877e-f81a6e428506"
      },
      "outputs": [
        {
          "output_type": "stream",
          "name": "stdout",
          "text": [
            "Odd indexed elements: (34, 67, 100, 56)\n"
          ]
        }
      ],
      "source": [
        "# fetch every odd indexed element from numbers below. No need to store this anywhere, just show output\n",
        "\n",
        "odd_indexed = tuple_num[1::2]\n",
        "print(\"Odd indexed elements:\",odd_indexed)\n"
      ]
    },
    {
      "cell_type": "code",
      "execution_count": 31,
      "id": "027c59f5",
      "metadata": {
        "id": "027c59f5",
        "colab": {
          "base_uri": "https://localhost:8080/"
        },
        "outputId": "8758b380-9932-4a9d-cebd-0f43121cc2ab"
      },
      "outputs": [
        {
          "output_type": "stream",
          "name": "stdout",
          "text": [
            "Total Numbers: (12, 34, 45, 67, 89, 100, 23, 56)\n",
            "Even Numbers: [12, 34, 100, 56]\n",
            "Odd Numbers: [45, 67, 89, 23]\n",
            "Total Numbers: (12, 34, 45, 67, 89, 100, 23, 56)\n",
            "Even Numbers: [12, 34, 100, 56]\n",
            "Odd Numbers: [45, 67, 89, 23]\n"
          ]
        }
      ],
      "source": [
        "# create empty lists called evens and odds below:\n",
        "\n",
        "evens = []\n",
        "odds = []\n",
        "\n",
        "# write a single for loop to add integers from the numbers tuple to evens and odds lists below:\n",
        "\n",
        "for i in tuple_num:\n",
        "  if(i % 2 == 0):\n",
        "    evens.append(i)\n",
        "  else:\n",
        "    odds.append(i)\n",
        "\n",
        "# print numbers, evens and odds below\n",
        "\n",
        "print(\"Total Numbers:\",tuple_num)\n",
        "print(\"Even Numbers:\",evens)\n",
        "print(\"Odd Numbers:\",odds)\n",
        "\n",
        "# print out numbers, evens and odd below\n",
        "\n",
        "print(\"Total Numbers:\",tuple_num)\n",
        "print(\"Even Numbers:\",evens)\n",
        "print(\"Odd Numbers:\",odds)\n"
      ]
    },
    {
      "cell_type": "code",
      "execution_count": null,
      "id": "4f801920",
      "metadata": {
        "id": "4f801920"
      },
      "outputs": [],
      "source": [
        "# comment if the above would be possible to do if evens and odds were tuples instead of lists?\n",
        "\n",
        "# Answer:\n",
        "# No, because tuples are immutable (cannot be modified after creation).\n",
        "# We cannot append elements to a tuple.\n"
      ]
    },
    {
      "cell_type": "markdown",
      "id": "b0bf88d8",
      "metadata": {
        "id": "b0bf88d8"
      },
      "source": [
        "#### [Question 5]\n",
        "\n",
        "a) Create a list called fruits containing the following fruits: apple, banana, orange, grape, kiwi, mango <br>\n",
        "b) Using a for loop, update every single item in fruits so that the first letter is capitalized. Print fruits at the end"
      ]
    },
    {
      "cell_type": "code",
      "execution_count": 25,
      "id": "0d1aed0e",
      "metadata": {
        "id": "0d1aed0e",
        "colab": {
          "base_uri": "https://localhost:8080/"
        },
        "outputId": "3c408035-3827-4e8e-87fd-8e9be9b1768b"
      },
      "outputs": [
        {
          "output_type": "stream",
          "name": "stdout",
          "text": [
            "List of Fruits: ['Apple', 'Banana', 'Orange', 'Grape', 'Kiwi', 'Mango']\n"
          ]
        }
      ],
      "source": [
        "# create fruits below\n",
        "\n",
        "fruits = ['apple', 'banana', 'orange', 'grape', 'kiwi', 'mango']\n",
        "\n",
        "# write a for loop to capitalize every element in fruits below\n",
        "\n",
        "for i in range(len(fruits)):\n",
        "  fruits[i] = fruits[i].capitalize()\n",
        "\n",
        "#print updated fruits below\n",
        "print(\"List of Fruits:\",fruits)\n"
      ]
    },
    {
      "cell_type": "markdown",
      "id": "57fe7528",
      "metadata": {
        "id": "57fe7528"
      },
      "source": [
        "#### [Question 6]\n",
        "\n",
        "a) Create a dictionary named \"capitals\" with three key-value pairs: \"USA\" - \"Washington DC\", \"France\" - \"Paris\",  and \"Japan\" - \"Tokyo\". Print the dictionary. <br>\n",
        "b) Add a new country and its capital to the \"capitals\" dictionary. The country is \"Germany\" and the capital is \"Berlin\". Print the updated dictionary. <br>\n",
        "c) Check if \"France\" exists in the \"capitals\" dictionary. If it does, print \"France is in the dictionary\" otherwise, print \"France is not in the dictionary\" (hint: you will need to use the keyword in)"
      ]
    },
    {
      "cell_type": "code",
      "execution_count": 28,
      "id": "fe365bbe",
      "metadata": {
        "id": "fe365bbe",
        "colab": {
          "base_uri": "https://localhost:8080/"
        },
        "outputId": "8b9ba448-68ca-439f-9af0-ef1291e38581"
      },
      "outputs": [
        {
          "output_type": "stream",
          "name": "stdout",
          "text": [
            "{'USA': 'Washington DC', 'France': 'Paris', 'Japan': 'Tokyo'}\n"
          ]
        }
      ],
      "source": [
        "# create the dictionary capitals below with its key:value pairs and print it\n",
        "capitals = {\"USA\" : \"Washington DC\", \"France\" : \"Paris\", \"Japan\" : \"Tokyo\"}\n",
        "print(capitals)\n"
      ]
    },
    {
      "cell_type": "code",
      "execution_count": 29,
      "id": "d219c2ce",
      "metadata": {
        "id": "d219c2ce",
        "colab": {
          "base_uri": "https://localhost:8080/"
        },
        "outputId": "658b68ef-77ad-4aa7-e9e1-146ad37a67a0"
      },
      "outputs": [
        {
          "output_type": "stream",
          "name": "stdout",
          "text": [
            "Updated Dictionary: {'USA': 'Washington DC', 'France': 'Paris', 'Japan': 'Tokyo', 'Germany': 'Berlin'}\n"
          ]
        }
      ],
      "source": [
        "# add germany to capitals below and print updated dictionary\n",
        "\n",
        "capitals[\"Germany\"] = \"Berlin\"\n",
        "print(\"Updated Dictionary:\",capitals)\n"
      ]
    },
    {
      "cell_type": "code",
      "execution_count": 30,
      "id": "65940d65",
      "metadata": {
        "id": "65940d65",
        "colab": {
          "base_uri": "https://localhost:8080/"
        },
        "outputId": "3ab8dffa-4f89-4fad-db5f-47c1e519e827"
      },
      "outputs": [
        {
          "output_type": "stream",
          "name": "stdout",
          "text": [
            "France is in the dictionary\n"
          ]
        }
      ],
      "source": [
        "# check if france is in the dictionary and print \"France is in the dictionary\" or \"France is not in the dictionary\"\n",
        "\n",
        "if \"France\" in capitals:\n",
        "  print(\"France is in the dictionary\")\n",
        "else:\n",
        "  print(\"France is not in the dictionary\")\n",
        "\n",
        "\n"
      ]
    }
  ],
  "metadata": {
    "kernelspec": {
      "display_name": "Python 3 (ipykernel)",
      "language": "python",
      "name": "python3"
    },
    "language_info": {
      "codemirror_mode": {
        "name": "ipython",
        "version": 3
      },
      "file_extension": ".py",
      "mimetype": "text/x-python",
      "name": "python",
      "nbconvert_exporter": "python",
      "pygments_lexer": "ipython3",
      "version": "3.9.13"
    },
    "colab": {
      "provenance": [],
      "include_colab_link": true
    }
  },
  "nbformat": 4,
  "nbformat_minor": 5
}